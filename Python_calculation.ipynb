{
 "cells": [
  {
   "cell_type": "code",
   "execution_count": 2,
   "id": "6ae83d86",
   "metadata": {},
   "outputs": [],
   "source": [
    "import pandas as pd\n",
    "import numpy as np\n",
    "import seaborn as sns\n",
    "from matplotlib import pyplot as plt"
   ]
  },
  {
   "cell_type": "code",
   "execution_count": 3,
   "id": "790681c8",
   "metadata": {},
   "outputs": [
    {
     "data": {
      "text/html": [
       "<div>\n",
       "<style scoped>\n",
       "    .dataframe tbody tr th:only-of-type {\n",
       "        vertical-align: middle;\n",
       "    }\n",
       "\n",
       "    .dataframe tbody tr th {\n",
       "        vertical-align: top;\n",
       "    }\n",
       "\n",
       "    .dataframe thead th {\n",
       "        text-align: right;\n",
       "    }\n",
       "</style>\n",
       "<table border=\"1\" class=\"dataframe\">\n",
       "  <thead>\n",
       "    <tr style=\"text-align: right;\">\n",
       "      <th></th>\n",
       "      <th>City</th>\n",
       "      <th>World_side</th>\n",
       "      <th>Population</th>\n",
       "      <th>Density</th>\n",
       "      <th>Air_quality_index</th>\n",
       "      <th>Unemployment_rate</th>\n",
       "      <th>Linkedinjobs_to_population</th>\n",
       "      <th>Price_1_m**2</th>\n",
       "      <th>Cold_rent</th>\n",
       "      <th>Cost_of_living</th>\n",
       "      <th>Salary_after_taxes</th>\n",
       "      <th>Free_money</th>\n",
       "    </tr>\n",
       "  </thead>\n",
       "  <tbody>\n",
       "    <tr>\n",
       "      <th>0</th>\n",
       "      <td>Munich</td>\n",
       "      <td>South</td>\n",
       "      <td>1484226</td>\n",
       "      <td>4777</td>\n",
       "      <td>58</td>\n",
       "      <td>0.029</td>\n",
       "      <td>0.041085</td>\n",
       "      <td>23.296</td>\n",
       "      <td>1400</td>\n",
       "      <td>1500</td>\n",
       "      <td>3218.798689</td>\n",
       "      <td>319</td>\n",
       "    </tr>\n",
       "    <tr>\n",
       "      <th>1</th>\n",
       "      <td>Berlin</td>\n",
       "      <td>East</td>\n",
       "      <td>3769495</td>\n",
       "      <td>4227</td>\n",
       "      <td>73</td>\n",
       "      <td>0.091</td>\n",
       "      <td>0.018302</td>\n",
       "      <td>14.859</td>\n",
       "      <td>1200</td>\n",
       "      <td>1200</td>\n",
       "      <td>2764.190623</td>\n",
       "      <td>364</td>\n",
       "    </tr>\n",
       "    <tr>\n",
       "      <th>2</th>\n",
       "      <td>Frankfurt</td>\n",
       "      <td>West</td>\n",
       "      <td>763380</td>\n",
       "      <td>3074</td>\n",
       "      <td>63</td>\n",
       "      <td>0.049</td>\n",
       "      <td>0.061107</td>\n",
       "      <td>16.978</td>\n",
       "      <td>1100</td>\n",
       "      <td>1200</td>\n",
       "      <td>3107.894149</td>\n",
       "      <td>808</td>\n",
       "    </tr>\n",
       "  </tbody>\n",
       "</table>\n",
       "</div>"
      ],
      "text/plain": [
       "        City World_side  Population  Density  Air_quality_index  \\\n",
       "0     Munich      South     1484226     4777                 58   \n",
       "1     Berlin       East     3769495     4227                 73   \n",
       "2  Frankfurt       West      763380     3074                 63   \n",
       "\n",
       "   Unemployment_rate  Linkedinjobs_to_population  Price_1_m**2  Cold_rent  \\\n",
       "0              0.029                    0.041085        23.296       1400   \n",
       "1              0.091                    0.018302        14.859       1200   \n",
       "2              0.049                    0.061107        16.978       1100   \n",
       "\n",
       "   Cost_of_living  Salary_after_taxes  Free_money  \n",
       "0            1500         3218.798689         319  \n",
       "1            1200         2764.190623         364  \n",
       "2            1200         3107.894149         808  "
      ]
     },
     "execution_count": 3,
     "metadata": {},
     "output_type": "execute_result"
    }
   ],
   "source": [
    "df = pd.read_excel('Germany_analysis.xlsx')\n",
    "df.head(3)"
   ]
  },
  {
   "cell_type": "code",
   "execution_count": 4,
   "id": "2fc0b39b",
   "metadata": {},
   "outputs": [
    {
     "data": {
      "text/html": [
       "<div>\n",
       "<style scoped>\n",
       "    .dataframe tbody tr th:only-of-type {\n",
       "        vertical-align: middle;\n",
       "    }\n",
       "\n",
       "    .dataframe tbody tr th {\n",
       "        vertical-align: top;\n",
       "    }\n",
       "\n",
       "    .dataframe thead th {\n",
       "        text-align: right;\n",
       "    }\n",
       "</style>\n",
       "<table border=\"1\" class=\"dataframe\">\n",
       "  <thead>\n",
       "    <tr style=\"text-align: right;\">\n",
       "      <th></th>\n",
       "      <th>city</th>\n",
       "      <th>world_side</th>\n",
       "      <th>population</th>\n",
       "      <th>population_mm</th>\n",
       "      <th>density</th>\n",
       "      <th>air_quality</th>\n",
       "      <th>unemployment_(%)</th>\n",
       "      <th>linkjobs_to_pop_(%)</th>\n",
       "      <th>cold_rent</th>\n",
       "      <th>cost_of_living</th>\n",
       "      <th>salary_net</th>\n",
       "      <th>free_money</th>\n",
       "    </tr>\n",
       "  </thead>\n",
       "  <tbody>\n",
       "    <tr>\n",
       "      <th>0</th>\n",
       "      <td>Munich</td>\n",
       "      <td>South</td>\n",
       "      <td>1484226</td>\n",
       "      <td>1.48</td>\n",
       "      <td>4777</td>\n",
       "      <td>58</td>\n",
       "      <td>2.9</td>\n",
       "      <td>4.1</td>\n",
       "      <td>1400</td>\n",
       "      <td>1500</td>\n",
       "      <td>3219</td>\n",
       "      <td>319</td>\n",
       "    </tr>\n",
       "    <tr>\n",
       "      <th>1</th>\n",
       "      <td>Berlin</td>\n",
       "      <td>East</td>\n",
       "      <td>3769495</td>\n",
       "      <td>3.77</td>\n",
       "      <td>4227</td>\n",
       "      <td>73</td>\n",
       "      <td>9.1</td>\n",
       "      <td>1.8</td>\n",
       "      <td>1200</td>\n",
       "      <td>1200</td>\n",
       "      <td>2764</td>\n",
       "      <td>364</td>\n",
       "    </tr>\n",
       "    <tr>\n",
       "      <th>2</th>\n",
       "      <td>Frankfurt</td>\n",
       "      <td>West</td>\n",
       "      <td>763380</td>\n",
       "      <td>0.76</td>\n",
       "      <td>3074</td>\n",
       "      <td>63</td>\n",
       "      <td>4.9</td>\n",
       "      <td>6.1</td>\n",
       "      <td>1100</td>\n",
       "      <td>1200</td>\n",
       "      <td>3108</td>\n",
       "      <td>808</td>\n",
       "    </tr>\n",
       "  </tbody>\n",
       "</table>\n",
       "</div>"
      ],
      "text/plain": [
       "        city world_side  population  population_mm  density  air_quality  \\\n",
       "0     Munich      South     1484226           1.48     4777           58   \n",
       "1     Berlin       East     3769495           3.77     4227           73   \n",
       "2  Frankfurt       West      763380           0.76     3074           63   \n",
       "\n",
       "   unemployment_(%)  linkjobs_to_pop_(%)  cold_rent  cost_of_living  \\\n",
       "0               2.9                  4.1       1400            1500   \n",
       "1               9.1                  1.8       1200            1200   \n",
       "2               4.9                  6.1       1100            1200   \n",
       "\n",
       "   salary_net  free_money  \n",
       "0        3219         319  \n",
       "1        2764         364  \n",
       "2        3108         808  "
      ]
     },
     "execution_count": 4,
     "metadata": {},
     "output_type": "execute_result"
    }
   ],
   "source": [
    "newdf = pd.DataFrame({\n",
    "    'city': df['City'],\n",
    "    'world_side': df['World_side'],\n",
    "    'population': df['Population'],\n",
    "    'population_mm': (df['Population']/1000000).round(2),\n",
    "    'density': df['Density'],\n",
    "    'air_quality': df['Air_quality_index'],\n",
    "    'unemployment_(%)': round(df['Unemployment_rate']*100, 1),\n",
    "    'linkjobs_to_pop_(%)': round(df['Linkedinjobs_to_population']*100, 1),\n",
    "    'cold_rent': df['Cold_rent'],\n",
    "    'cost_of_living': df['Cost_of_living'],\n",
    "    'salary_net': df['Salary_after_taxes'].round().astype(int),\n",
    "    'free_money': df['Free_money']\n",
    "})\n",
    "newdf.head(3)"
   ]
  },
  {
   "cell_type": "code",
   "execution_count": 5,
   "id": "0383a794",
   "metadata": {},
   "outputs": [],
   "source": [
    "newdf.insert(10, 'expenses', newdf['cold_rent']+newdf['cost_of_living']) # making expenses column (cost of living+cold rent)"
   ]
  },
  {
   "cell_type": "code",
   "execution_count": 6,
   "id": "28627fe0",
   "metadata": {},
   "outputs": [],
   "source": [
    "newdf = newdf.sort_values('density', ascending=False)"
   ]
  },
  {
   "cell_type": "code",
   "execution_count": 7,
   "id": "c14ef36d",
   "metadata": {},
   "outputs": [
    {
     "data": {
      "text/plain": [
       "Index(['city', 'world_side', 'population', 'population_mm', 'density',\n",
       "       'air_quality', 'unemployment_(%)', 'linkjobs_to_pop_(%)', 'cold_rent',\n",
       "       'cost_of_living', 'expenses', 'salary_net', 'free_money'],\n",
       "      dtype='object')"
      ]
     },
     "execution_count": 7,
     "metadata": {},
     "output_type": "execute_result"
    }
   ],
   "source": [
    "newdf.columns"
   ]
  },
  {
   "cell_type": "code",
   "execution_count": 8,
   "id": "4e0468b0",
   "metadata": {},
   "outputs": [
    {
     "data": {
      "text/html": [
       "<div>\n",
       "<style scoped>\n",
       "    .dataframe tbody tr th:only-of-type {\n",
       "        vertical-align: middle;\n",
       "    }\n",
       "\n",
       "    .dataframe tbody tr th {\n",
       "        vertical-align: top;\n",
       "    }\n",
       "\n",
       "    .dataframe thead th {\n",
       "        text-align: right;\n",
       "    }\n",
       "</style>\n",
       "<table border=\"1\" class=\"dataframe\">\n",
       "  <thead>\n",
       "    <tr style=\"text-align: right;\">\n",
       "      <th></th>\n",
       "      <th>density</th>\n",
       "      <th>air_quality</th>\n",
       "      <th>unemployment_(%)</th>\n",
       "      <th>linkjobs_to_pop_(%)</th>\n",
       "      <th>cold_rent</th>\n",
       "      <th>cost_of_living</th>\n",
       "      <th>expenses</th>\n",
       "      <th>salary_net</th>\n",
       "      <th>free_money</th>\n",
       "    </tr>\n",
       "  </thead>\n",
       "  <tbody>\n",
       "    <tr>\n",
       "      <th>density</th>\n",
       "      <td>1.00</td>\n",
       "      <td>0.38</td>\n",
       "      <td>-0.05</td>\n",
       "      <td>-0.63</td>\n",
       "      <td>0.64</td>\n",
       "      <td>0.84</td>\n",
       "      <td>0.75</td>\n",
       "      <td>0.58</td>\n",
       "      <td>-0.16</td>\n",
       "    </tr>\n",
       "    <tr>\n",
       "      <th>air_quality</th>\n",
       "      <td>0.38</td>\n",
       "      <td>1.00</td>\n",
       "      <td>-0.21</td>\n",
       "      <td>-0.28</td>\n",
       "      <td>0.29</td>\n",
       "      <td>0.28</td>\n",
       "      <td>0.30</td>\n",
       "      <td>0.36</td>\n",
       "      <td>0.13</td>\n",
       "    </tr>\n",
       "    <tr>\n",
       "      <th>unemployment_(%)</th>\n",
       "      <td>-0.05</td>\n",
       "      <td>-0.21</td>\n",
       "      <td>1.00</td>\n",
       "      <td>-0.35</td>\n",
       "      <td>-0.19</td>\n",
       "      <td>-0.23</td>\n",
       "      <td>-0.22</td>\n",
       "      <td>-0.38</td>\n",
       "      <td>-0.28</td>\n",
       "    </tr>\n",
       "    <tr>\n",
       "      <th>linkjobs_to_pop_(%)</th>\n",
       "      <td>-0.63</td>\n",
       "      <td>-0.28</td>\n",
       "      <td>-0.35</td>\n",
       "      <td>1.00</td>\n",
       "      <td>-0.19</td>\n",
       "      <td>-0.38</td>\n",
       "      <td>-0.27</td>\n",
       "      <td>-0.05</td>\n",
       "      <td>0.30</td>\n",
       "    </tr>\n",
       "    <tr>\n",
       "      <th>cold_rent</th>\n",
       "      <td>0.64</td>\n",
       "      <td>0.29</td>\n",
       "      <td>-0.19</td>\n",
       "      <td>-0.19</td>\n",
       "      <td>1.00</td>\n",
       "      <td>0.78</td>\n",
       "      <td>0.97</td>\n",
       "      <td>0.73</td>\n",
       "      <td>-0.22</td>\n",
       "    </tr>\n",
       "    <tr>\n",
       "      <th>cost_of_living</th>\n",
       "      <td>0.84</td>\n",
       "      <td>0.28</td>\n",
       "      <td>-0.23</td>\n",
       "      <td>-0.38</td>\n",
       "      <td>0.78</td>\n",
       "      <td>1.00</td>\n",
       "      <td>0.91</td>\n",
       "      <td>0.68</td>\n",
       "      <td>-0.21</td>\n",
       "    </tr>\n",
       "    <tr>\n",
       "      <th>expenses</th>\n",
       "      <td>0.75</td>\n",
       "      <td>0.30</td>\n",
       "      <td>-0.22</td>\n",
       "      <td>-0.27</td>\n",
       "      <td>0.97</td>\n",
       "      <td>0.91</td>\n",
       "      <td>1.00</td>\n",
       "      <td>0.76</td>\n",
       "      <td>-0.23</td>\n",
       "    </tr>\n",
       "    <tr>\n",
       "      <th>salary_net</th>\n",
       "      <td>0.58</td>\n",
       "      <td>0.36</td>\n",
       "      <td>-0.38</td>\n",
       "      <td>-0.05</td>\n",
       "      <td>0.73</td>\n",
       "      <td>0.68</td>\n",
       "      <td>0.76</td>\n",
       "      <td>1.00</td>\n",
       "      <td>0.47</td>\n",
       "    </tr>\n",
       "    <tr>\n",
       "      <th>free_money</th>\n",
       "      <td>-0.16</td>\n",
       "      <td>0.13</td>\n",
       "      <td>-0.28</td>\n",
       "      <td>0.30</td>\n",
       "      <td>-0.22</td>\n",
       "      <td>-0.21</td>\n",
       "      <td>-0.23</td>\n",
       "      <td>0.47</td>\n",
       "      <td>1.00</td>\n",
       "    </tr>\n",
       "  </tbody>\n",
       "</table>\n",
       "</div>"
      ],
      "text/plain": [
       "                     density  air_quality  unemployment_(%)  \\\n",
       "density                 1.00         0.38             -0.05   \n",
       "air_quality             0.38         1.00             -0.21   \n",
       "unemployment_(%)       -0.05        -0.21              1.00   \n",
       "linkjobs_to_pop_(%)    -0.63        -0.28             -0.35   \n",
       "cold_rent               0.64         0.29             -0.19   \n",
       "cost_of_living          0.84         0.28             -0.23   \n",
       "expenses                0.75         0.30             -0.22   \n",
       "salary_net              0.58         0.36             -0.38   \n",
       "free_money             -0.16         0.13             -0.28   \n",
       "\n",
       "                     linkjobs_to_pop_(%)  cold_rent  cost_of_living  expenses  \\\n",
       "density                            -0.63       0.64            0.84      0.75   \n",
       "air_quality                        -0.28       0.29            0.28      0.30   \n",
       "unemployment_(%)                   -0.35      -0.19           -0.23     -0.22   \n",
       "linkjobs_to_pop_(%)                 1.00      -0.19           -0.38     -0.27   \n",
       "cold_rent                          -0.19       1.00            0.78      0.97   \n",
       "cost_of_living                     -0.38       0.78            1.00      0.91   \n",
       "expenses                           -0.27       0.97            0.91      1.00   \n",
       "salary_net                         -0.05       0.73            0.68      0.76   \n",
       "free_money                          0.30      -0.22           -0.21     -0.23   \n",
       "\n",
       "                     salary_net  free_money  \n",
       "density                    0.58       -0.16  \n",
       "air_quality                0.36        0.13  \n",
       "unemployment_(%)          -0.38       -0.28  \n",
       "linkjobs_to_pop_(%)       -0.05        0.30  \n",
       "cold_rent                  0.73       -0.22  \n",
       "cost_of_living             0.68       -0.21  \n",
       "expenses                   0.76       -0.23  \n",
       "salary_net                 1.00        0.47  \n",
       "free_money                 0.47        1.00  "
      ]
     },
     "execution_count": 8,
     "metadata": {},
     "output_type": "execute_result"
    }
   ],
   "source": [
    "newdf[['density', 'air_quality', # looking for a correlation\n",
    "       'unemployment_(%)', 'linkjobs_to_pop_(%)', 'cold_rent',\n",
    "       'cost_of_living', 'expenses', 'salary_net', 'free_money']].corr().round(2)"
   ]
  },
  {
   "cell_type": "code",
   "execution_count": 9,
   "id": "aa1d3db8",
   "metadata": {},
   "outputs": [],
   "source": [
    "newdf.insert(5, 'air_quality_by_city', pd.cut(newdf['air_quality'], bins=3, labels=['best', 'medium', 'worst'])) # comparing AQ through all cities"
   ]
  },
  {
   "cell_type": "code",
   "execution_count": 10,
   "id": "a03ce270",
   "metadata": {},
   "outputs": [],
   "source": [
    "newdf.insert(4, 'density_by_city', pd.cut(newdf['density'], bins=3, labels=['low', 'medium', 'high'])) # comparing density through all cities"
   ]
  },
  {
   "cell_type": "code",
   "execution_count": 11,
   "id": "c73fd1bd",
   "metadata": {},
   "outputs": [],
   "source": [
    "newdf.insert(8, 'unemployment_by_city', pd.cut(newdf['unemployment_(%)'], bins=3, labels=['low', 'medium', 'high'])) # comparing unemployment_rate through all cities"
   ]
  },
  {
   "cell_type": "code",
   "execution_count": 12,
   "id": "378f3267",
   "metadata": {},
   "outputs": [],
   "source": [
    "newdf.insert(14, 'expenses_by_city', pd.cut(newdf['free_money'], bins=3, labels=['high', 'medium', 'low'])) # figuring out the most expensive cities"
   ]
  },
  {
   "cell_type": "code",
   "execution_count": 13,
   "id": "e7067ad9",
   "metadata": {},
   "outputs": [],
   "source": [
    "newdf.insert(10, 'linkjobs_by_city', pd.cut(newdf['linkjobs_to_pop_(%)'], bins=3, labels=['low', 'medium', 'high'])) # linkedin job distribution between cities"
   ]
  },
  {
   "cell_type": "code",
   "execution_count": 14,
   "id": "05321be6",
   "metadata": {},
   "outputs": [
    {
     "data": {
      "text/html": [
       "<div>\n",
       "<style scoped>\n",
       "    .dataframe tbody tr th:only-of-type {\n",
       "        vertical-align: middle;\n",
       "    }\n",
       "\n",
       "    .dataframe tbody tr th {\n",
       "        vertical-align: top;\n",
       "    }\n",
       "\n",
       "    .dataframe thead th {\n",
       "        text-align: right;\n",
       "    }\n",
       "</style>\n",
       "<table border=\"1\" class=\"dataframe\">\n",
       "  <thead>\n",
       "    <tr style=\"text-align: right;\">\n",
       "      <th></th>\n",
       "      <th>city</th>\n",
       "      <th>world_side</th>\n",
       "      <th>population</th>\n",
       "      <th>population_mm</th>\n",
       "      <th>density_by_city</th>\n",
       "      <th>density</th>\n",
       "      <th>air_quality_by_city</th>\n",
       "      <th>air_quality</th>\n",
       "      <th>unemployment_by_city</th>\n",
       "      <th>unemployment_(%)</th>\n",
       "      <th>linkjobs_by_city</th>\n",
       "      <th>linkjobs_to_pop_(%)</th>\n",
       "      <th>cold_rent</th>\n",
       "      <th>cost_of_living</th>\n",
       "      <th>expenses</th>\n",
       "      <th>expenses_by_city</th>\n",
       "      <th>salary_net</th>\n",
       "      <th>free_money</th>\n",
       "    </tr>\n",
       "  </thead>\n",
       "  <tbody>\n",
       "    <tr>\n",
       "      <th>0</th>\n",
       "      <td>Munich</td>\n",
       "      <td>South</td>\n",
       "      <td>1484226</td>\n",
       "      <td>1.48</td>\n",
       "      <td>high</td>\n",
       "      <td>4777</td>\n",
       "      <td>best</td>\n",
       "      <td>58</td>\n",
       "      <td>low</td>\n",
       "      <td>2.9</td>\n",
       "      <td>low</td>\n",
       "      <td>4.1</td>\n",
       "      <td>1400</td>\n",
       "      <td>1500</td>\n",
       "      <td>2900</td>\n",
       "      <td>high</td>\n",
       "      <td>3219</td>\n",
       "      <td>319</td>\n",
       "    </tr>\n",
       "    <tr>\n",
       "      <th>1</th>\n",
       "      <td>Berlin</td>\n",
       "      <td>East</td>\n",
       "      <td>3769495</td>\n",
       "      <td>3.77</td>\n",
       "      <td>high</td>\n",
       "      <td>4227</td>\n",
       "      <td>medium</td>\n",
       "      <td>73</td>\n",
       "      <td>high</td>\n",
       "      <td>9.1</td>\n",
       "      <td>low</td>\n",
       "      <td>1.8</td>\n",
       "      <td>1200</td>\n",
       "      <td>1200</td>\n",
       "      <td>2400</td>\n",
       "      <td>high</td>\n",
       "      <td>2764</td>\n",
       "      <td>364</td>\n",
       "    </tr>\n",
       "    <tr>\n",
       "      <th>2</th>\n",
       "      <td>Frankfurt</td>\n",
       "      <td>West</td>\n",
       "      <td>763380</td>\n",
       "      <td>0.76</td>\n",
       "      <td>medium</td>\n",
       "      <td>3074</td>\n",
       "      <td>medium</td>\n",
       "      <td>63</td>\n",
       "      <td>low</td>\n",
       "      <td>4.9</td>\n",
       "      <td>medium</td>\n",
       "      <td>6.1</td>\n",
       "      <td>1100</td>\n",
       "      <td>1200</td>\n",
       "      <td>2300</td>\n",
       "      <td>medium</td>\n",
       "      <td>3108</td>\n",
       "      <td>808</td>\n",
       "    </tr>\n",
       "  </tbody>\n",
       "</table>\n",
       "</div>"
      ],
      "text/plain": [
       "        city world_side  population  population_mm density_by_city  density  \\\n",
       "0     Munich      South     1484226           1.48            high     4777   \n",
       "1     Berlin       East     3769495           3.77            high     4227   \n",
       "2  Frankfurt       West      763380           0.76          medium     3074   \n",
       "\n",
       "  air_quality_by_city  air_quality unemployment_by_city  unemployment_(%)  \\\n",
       "0                best           58                  low               2.9   \n",
       "1              medium           73                 high               9.1   \n",
       "2              medium           63                  low               4.9   \n",
       "\n",
       "  linkjobs_by_city  linkjobs_to_pop_(%)  cold_rent  cost_of_living  expenses  \\\n",
       "0              low                  4.1       1400            1500      2900   \n",
       "1              low                  1.8       1200            1200      2400   \n",
       "2           medium                  6.1       1100            1200      2300   \n",
       "\n",
       "  expenses_by_city  salary_net  free_money  \n",
       "0             high        3219         319  \n",
       "1             high        2764         364  \n",
       "2           medium        3108         808  "
      ]
     },
     "execution_count": 14,
     "metadata": {},
     "output_type": "execute_result"
    }
   ],
   "source": [
    "newdf.head(3)"
   ]
  },
  {
   "cell_type": "code",
   "execution_count": 15,
   "id": "65c69688",
   "metadata": {},
   "outputs": [
    {
     "data": {
      "text/html": [
       "<div>\n",
       "<style scoped>\n",
       "    .dataframe tbody tr th:only-of-type {\n",
       "        vertical-align: middle;\n",
       "    }\n",
       "\n",
       "    .dataframe tbody tr th {\n",
       "        vertical-align: top;\n",
       "    }\n",
       "\n",
       "    .dataframe thead th {\n",
       "        text-align: right;\n",
       "    }\n",
       "</style>\n",
       "<table border=\"1\" class=\"dataframe\">\n",
       "  <thead>\n",
       "    <tr style=\"text-align: right;\">\n",
       "      <th></th>\n",
       "      <th>city</th>\n",
       "      <th>free_money</th>\n",
       "    </tr>\n",
       "  </thead>\n",
       "  <tbody>\n",
       "    <tr>\n",
       "      <th>7</th>\n",
       "      <td>Cologne</td>\n",
       "      <td>148</td>\n",
       "    </tr>\n",
       "    <tr>\n",
       "      <th>0</th>\n",
       "      <td>Munich</td>\n",
       "      <td>319</td>\n",
       "    </tr>\n",
       "    <tr>\n",
       "      <th>19</th>\n",
       "      <td>Bielefeld</td>\n",
       "      <td>348</td>\n",
       "    </tr>\n",
       "    <tr>\n",
       "      <th>1</th>\n",
       "      <td>Berlin</td>\n",
       "      <td>364</td>\n",
       "    </tr>\n",
       "    <tr>\n",
       "      <th>25</th>\n",
       "      <td>Erfurt</td>\n",
       "      <td>390</td>\n",
       "    </tr>\n",
       "    <tr>\n",
       "      <th>13</th>\n",
       "      <td>Leipzig</td>\n",
       "      <td>424</td>\n",
       "    </tr>\n",
       "    <tr>\n",
       "      <th>22</th>\n",
       "      <td>Lubeck</td>\n",
       "      <td>433</td>\n",
       "    </tr>\n",
       "    <tr>\n",
       "      <th>15</th>\n",
       "      <td>Bremen</td>\n",
       "      <td>452</td>\n",
       "    </tr>\n",
       "    <tr>\n",
       "      <th>21</th>\n",
       "      <td>Koblenz</td>\n",
       "      <td>464</td>\n",
       "    </tr>\n",
       "    <tr>\n",
       "      <th>24</th>\n",
       "      <td>Potsdam</td>\n",
       "      <td>483</td>\n",
       "    </tr>\n",
       "  </tbody>\n",
       "</table>\n",
       "</div>"
      ],
      "text/plain": [
       "         city  free_money\n",
       "7     Cologne         148\n",
       "0      Munich         319\n",
       "19  Bielefeld         348\n",
       "1      Berlin         364\n",
       "25     Erfurt         390\n",
       "13    Leipzig         424\n",
       "22     Lubeck         433\n",
       "15     Bremen         452\n",
       "21    Koblenz         464\n",
       "24    Potsdam         483"
      ]
     },
     "execution_count": 15,
     "metadata": {},
     "output_type": "execute_result"
    }
   ],
   "source": [
    "newdf[newdf['expenses_by_city']=='high'].loc[:, ['city', 'free_money']].sort_values('free_money') \n",
    "# Cities with highest expenses in Germany"
   ]
  },
  {
   "cell_type": "code",
   "execution_count": 16,
   "id": "47da49a1",
   "metadata": {},
   "outputs": [
    {
     "data": {
      "text/html": [
       "<div>\n",
       "<style scoped>\n",
       "    .dataframe tbody tr th:only-of-type {\n",
       "        vertical-align: middle;\n",
       "    }\n",
       "\n",
       "    .dataframe tbody tr th {\n",
       "        vertical-align: top;\n",
       "    }\n",
       "\n",
       "    .dataframe thead th {\n",
       "        text-align: right;\n",
       "    }\n",
       "</style>\n",
       "<table border=\"1\" class=\"dataframe\">\n",
       "  <thead>\n",
       "    <tr style=\"text-align: right;\">\n",
       "      <th></th>\n",
       "      <th>city</th>\n",
       "      <th>density</th>\n",
       "    </tr>\n",
       "  </thead>\n",
       "  <tbody>\n",
       "    <tr>\n",
       "      <th>0</th>\n",
       "      <td>Munich</td>\n",
       "      <td>4777</td>\n",
       "    </tr>\n",
       "    <tr>\n",
       "      <th>1</th>\n",
       "      <td>Berlin</td>\n",
       "      <td>4227</td>\n",
       "    </tr>\n",
       "  </tbody>\n",
       "</table>\n",
       "</div>"
      ],
      "text/plain": [
       "     city  density\n",
       "0  Munich     4777\n",
       "1  Berlin     4227"
      ]
     },
     "execution_count": 16,
     "metadata": {},
     "output_type": "execute_result"
    }
   ],
   "source": [
    "newdf[newdf['density_by_city']=='high'].loc[:, ['city', 'density']] \n",
    "# the most popular cities in Germany"
   ]
  },
  {
   "cell_type": "code",
   "execution_count": 17,
   "id": "b742961e",
   "metadata": {},
   "outputs": [
    {
     "data": {
      "text/html": [
       "<div>\n",
       "<style scoped>\n",
       "    .dataframe tbody tr th:only-of-type {\n",
       "        vertical-align: middle;\n",
       "    }\n",
       "\n",
       "    .dataframe tbody tr th {\n",
       "        vertical-align: top;\n",
       "    }\n",
       "\n",
       "    .dataframe thead th {\n",
       "        text-align: right;\n",
       "    }\n",
       "</style>\n",
       "<table border=\"1\" class=\"dataframe\">\n",
       "  <thead>\n",
       "    <tr style=\"text-align: right;\">\n",
       "      <th></th>\n",
       "      <th>city</th>\n",
       "      <th>unemployment_(%)</th>\n",
       "    </tr>\n",
       "  </thead>\n",
       "  <tbody>\n",
       "    <tr>\n",
       "      <th>15</th>\n",
       "      <td>Bremen</td>\n",
       "      <td>10.6</td>\n",
       "    </tr>\n",
       "    <tr>\n",
       "      <th>1</th>\n",
       "      <td>Berlin</td>\n",
       "      <td>9.1</td>\n",
       "    </tr>\n",
       "  </tbody>\n",
       "</table>\n",
       "</div>"
      ],
      "text/plain": [
       "      city  unemployment_(%)\n",
       "15  Bremen              10.6\n",
       "1   Berlin               9.1"
      ]
     },
     "execution_count": 17,
     "metadata": {},
     "output_type": "execute_result"
    }
   ],
   "source": [
    "newdf[newdf['unemployment_by_city']=='high'].loc[:, ['city', 'unemployment_(%)']].sort_values('unemployment_(%)', ascending=False)\n",
    "# Cities with highest unemployment rate"
   ]
  },
  {
   "cell_type": "code",
   "execution_count": 18,
   "id": "89a5c407",
   "metadata": {},
   "outputs": [
    {
     "data": {
      "text/html": [
       "<div>\n",
       "<style scoped>\n",
       "    .dataframe tbody tr th:only-of-type {\n",
       "        vertical-align: middle;\n",
       "    }\n",
       "\n",
       "    .dataframe tbody tr th {\n",
       "        vertical-align: top;\n",
       "    }\n",
       "\n",
       "    .dataframe thead th {\n",
       "        text-align: right;\n",
       "    }\n",
       "</style>\n",
       "<table border=\"1\" class=\"dataframe\">\n",
       "  <thead>\n",
       "    <tr style=\"text-align: right;\">\n",
       "      <th></th>\n",
       "      <th>city</th>\n",
       "      <th>unemployment_(%)</th>\n",
       "    </tr>\n",
       "  </thead>\n",
       "  <tbody>\n",
       "    <tr>\n",
       "      <th>0</th>\n",
       "      <td>Munich</td>\n",
       "      <td>2.9</td>\n",
       "    </tr>\n",
       "    <tr>\n",
       "      <th>5</th>\n",
       "      <td>Nuremberg</td>\n",
       "      <td>3.1</td>\n",
       "    </tr>\n",
       "    <tr>\n",
       "      <th>3</th>\n",
       "      <td>Stuttgart</td>\n",
       "      <td>3.6</td>\n",
       "    </tr>\n",
       "    <tr>\n",
       "      <th>14</th>\n",
       "      <td>Karlsruhe</td>\n",
       "      <td>3.8</td>\n",
       "    </tr>\n",
       "    <tr>\n",
       "      <th>17</th>\n",
       "      <td>Freiburg im Breisgau</td>\n",
       "      <td>3.9</td>\n",
       "    </tr>\n",
       "    <tr>\n",
       "      <th>18</th>\n",
       "      <td>Heidelberg</td>\n",
       "      <td>4.1</td>\n",
       "    </tr>\n",
       "    <tr>\n",
       "      <th>21</th>\n",
       "      <td>Koblenz</td>\n",
       "      <td>4.6</td>\n",
       "    </tr>\n",
       "    <tr>\n",
       "      <th>2</th>\n",
       "      <td>Frankfurt</td>\n",
       "      <td>4.9</td>\n",
       "    </tr>\n",
       "    <tr>\n",
       "      <th>19</th>\n",
       "      <td>Bielefeld</td>\n",
       "      <td>5.0</td>\n",
       "    </tr>\n",
       "    <tr>\n",
       "      <th>8</th>\n",
       "      <td>Hanover</td>\n",
       "      <td>5.4</td>\n",
       "    </tr>\n",
       "    <tr>\n",
       "      <th>10</th>\n",
       "      <td>Bonn</td>\n",
       "      <td>5.4</td>\n",
       "    </tr>\n",
       "    <tr>\n",
       "      <th>23</th>\n",
       "      <td>Jena</td>\n",
       "      <td>5.4</td>\n",
       "    </tr>\n",
       "    <tr>\n",
       "      <th>25</th>\n",
       "      <td>Erfurt</td>\n",
       "      <td>5.4</td>\n",
       "    </tr>\n",
       "  </tbody>\n",
       "</table>\n",
       "</div>"
      ],
      "text/plain": [
       "                    city  unemployment_(%)\n",
       "0                 Munich               2.9\n",
       "5              Nuremberg               3.1\n",
       "3              Stuttgart               3.6\n",
       "14             Karlsruhe               3.8\n",
       "17  Freiburg im Breisgau               3.9\n",
       "18            Heidelberg               4.1\n",
       "21               Koblenz               4.6\n",
       "2              Frankfurt               4.9\n",
       "19             Bielefeld               5.0\n",
       "8                Hanover               5.4\n",
       "10                  Bonn               5.4\n",
       "23                  Jena               5.4\n",
       "25                Erfurt               5.4"
      ]
     },
     "execution_count": 18,
     "metadata": {},
     "output_type": "execute_result"
    }
   ],
   "source": [
    "newdf[newdf['unemployment_by_city']=='low'].loc[:, ['city', 'unemployment_(%)']].sort_values('unemployment_(%)', ascending=True)\n",
    "# Cities with lowest unemployment rate"
   ]
  },
  {
   "cell_type": "code",
   "execution_count": 19,
   "id": "f6708a29",
   "metadata": {},
   "outputs": [
    {
     "data": {
      "text/plain": [
       "(Text(0.5, 0, 'World_Side'), Text(0, 0.5, 'Unemployment_Rate_%'))"
      ]
     },
     "execution_count": 19,
     "metadata": {},
     "output_type": "execute_result"
    },
    {
     "data": {
      "image/png": "[encoded data removed]",
      "text/plain": [
       "<Figure size 640x480 with 1 Axes>"
      ]
     },
     "metadata": {},
     "output_type": "display_data"
    }
   ],
   "source": [
    "sns.boxplot(x='world_side', y='unemployment_(%)', data=newdf)\n",
    "plt.xlabel('World_Side'), plt.ylabel('Unemployment_Rate_%')\n",
    "# Southern Germany has the lowest unemployment_rate"
   ]
  },
  {
   "cell_type": "code",
   "execution_count": 20,
   "id": "7e9bdfe5",
   "metadata": {},
   "outputs": [
    {
     "data": {
      "text/plain": [
       "(Text(0.5, 0, 'World_Side'), Text(0, 0.5, 'Air_Quality'))"
      ]
     },
     "execution_count": 20,
     "metadata": {},
     "output_type": "execute_result"
    },
    {
     "data": {
      "image/png": "[encoded data removed]",
      "text/plain": [
       "<Figure size 640x480 with 1 Axes>"
      ]
     },
     "metadata": {},
     "output_type": "display_data"
    }
   ],
   "source": [
    "sns.boxplot(x='world_side', y='air_quality', data=newdf)\n",
    "plt.xlabel('World_Side'), plt.ylabel('Air_Quality')\n",
    "# North side of Germany has the best air quality (the lower number the better quality)"
   ]
  },
  {
   "cell_type": "code",
   "execution_count": 21,
   "id": "c9c5430b",
   "metadata": {},
   "outputs": [
    {
     "data": {
      "text/html": [
       "<div>\n",
       "<style scoped>\n",
       "    .dataframe tbody tr th:only-of-type {\n",
       "        vertical-align: middle;\n",
       "    }\n",
       "\n",
       "    .dataframe tbody tr th {\n",
       "        vertical-align: top;\n",
       "    }\n",
       "\n",
       "    .dataframe thead th {\n",
       "        text-align: right;\n",
       "    }\n",
       "</style>\n",
       "<table border=\"1\" class=\"dataframe\">\n",
       "  <thead>\n",
       "    <tr style=\"text-align: right;\">\n",
       "      <th></th>\n",
       "      <th>city</th>\n",
       "      <th>world_side</th>\n",
       "      <th>air_quality</th>\n",
       "    </tr>\n",
       "  </thead>\n",
       "  <tbody>\n",
       "    <tr>\n",
       "      <th>12</th>\n",
       "      <td>Kiel</td>\n",
       "      <td>North</td>\n",
       "      <td>31</td>\n",
       "    </tr>\n",
       "    <tr>\n",
       "      <th>8</th>\n",
       "      <td>Hanover</td>\n",
       "      <td>North</td>\n",
       "      <td>34</td>\n",
       "    </tr>\n",
       "    <tr>\n",
       "      <th>15</th>\n",
       "      <td>Bremen</td>\n",
       "      <td>North</td>\n",
       "      <td>37</td>\n",
       "    </tr>\n",
       "    <tr>\n",
       "      <th>19</th>\n",
       "      <td>Bielefeld</td>\n",
       "      <td>West</td>\n",
       "      <td>38</td>\n",
       "    </tr>\n",
       "    <tr>\n",
       "      <th>24</th>\n",
       "      <td>Potsdam</td>\n",
       "      <td>East</td>\n",
       "      <td>45</td>\n",
       "    </tr>\n",
       "    <tr>\n",
       "      <th>21</th>\n",
       "      <td>Koblenz</td>\n",
       "      <td>West</td>\n",
       "      <td>46</td>\n",
       "    </tr>\n",
       "    <tr>\n",
       "      <th>23</th>\n",
       "      <td>Jena</td>\n",
       "      <td>East</td>\n",
       "      <td>46</td>\n",
       "    </tr>\n",
       "    <tr>\n",
       "      <th>25</th>\n",
       "      <td>Erfurt</td>\n",
       "      <td>East</td>\n",
       "      <td>47</td>\n",
       "    </tr>\n",
       "    <tr>\n",
       "      <th>22</th>\n",
       "      <td>Lubeck</td>\n",
       "      <td>North</td>\n",
       "      <td>51</td>\n",
       "    </tr>\n",
       "    <tr>\n",
       "      <th>11</th>\n",
       "      <td>Dortmund</td>\n",
       "      <td>West</td>\n",
       "      <td>55</td>\n",
       "    </tr>\n",
       "    <tr>\n",
       "      <th>17</th>\n",
       "      <td>Freiburg im Breisgau</td>\n",
       "      <td>South</td>\n",
       "      <td>56</td>\n",
       "    </tr>\n",
       "    <tr>\n",
       "      <th>9</th>\n",
       "      <td>Hamburg</td>\n",
       "      <td>North</td>\n",
       "      <td>57</td>\n",
       "    </tr>\n",
       "    <tr>\n",
       "      <th>0</th>\n",
       "      <td>Munich</td>\n",
       "      <td>South</td>\n",
       "      <td>58</td>\n",
       "    </tr>\n",
       "    <tr>\n",
       "      <th>10</th>\n",
       "      <td>Bonn</td>\n",
       "      <td>West</td>\n",
       "      <td>59</td>\n",
       "    </tr>\n",
       "    <tr>\n",
       "      <th>14</th>\n",
       "      <td>Karlsruhe</td>\n",
       "      <td>South</td>\n",
       "      <td>59</td>\n",
       "    </tr>\n",
       "    <tr>\n",
       "      <th>20</th>\n",
       "      <td>Magdeburg</td>\n",
       "      <td>East</td>\n",
       "      <td>59</td>\n",
       "    </tr>\n",
       "  </tbody>\n",
       "</table>\n",
       "</div>"
      ],
      "text/plain": [
       "                    city world_side  air_quality\n",
       "12                  Kiel      North           31\n",
       "8                Hanover      North           34\n",
       "15                Bremen      North           37\n",
       "19             Bielefeld       West           38\n",
       "24               Potsdam       East           45\n",
       "21               Koblenz       West           46\n",
       "23                  Jena       East           46\n",
       "25                Erfurt       East           47\n",
       "22                Lubeck      North           51\n",
       "11              Dortmund       West           55\n",
       "17  Freiburg im Breisgau      South           56\n",
       "9                Hamburg      North           57\n",
       "0                 Munich      South           58\n",
       "10                  Bonn       West           59\n",
       "14             Karlsruhe      South           59\n",
       "20             Magdeburg       East           59"
      ]
     },
     "execution_count": 21,
     "metadata": {},
     "output_type": "execute_result"
    }
   ],
   "source": [
    "newdf[newdf['air_quality_by_city']=='best'].loc[:, ['city', 'world_side', 'air_quality']].sort_values('air_quality') \n",
    "# Cities in Germany with the best air quality (the lower number the better quality)"
   ]
  },
  {
   "cell_type": "code",
   "execution_count": 22,
   "id": "6546b052",
   "metadata": {},
   "outputs": [
    {
     "data": {
      "text/plain": [
       "<AxesSubplot: xlabel='world_side', ylabel='free_money'>"
      ]
     },
     "execution_count": 22,
     "metadata": {},
     "output_type": "execute_result"
    },
    {
     "data": {
      "image/png": "[encoded data removed]",
      "text/plain": [
       "<Figure size 640x480 with 1 Axes>"
      ]
     },
     "metadata": {},
     "output_type": "display_data"
    }
   ],
   "source": [
    "sns.boxplot(x='world_side', y='free_money', data=newdf)\n",
    "# In most cases, working in Southern Germany you'll have more free money, with the exception of Munich "
   ]
  },
  {
   "cell_type": "code",
   "execution_count": 23,
   "id": "8f08091d",
   "metadata": {},
   "outputs": [
    {
     "data": {
      "text/plain": [
       "<AxesSubplot: xlabel='world_side', ylabel='salary_net'>"
      ]
     },
     "execution_count": 23,
     "metadata": {},
     "output_type": "execute_result"
    },
    {
     "data": {
      "image/png": "[encoded data removed]",
      "text/plain": [
       "<Figure size 640x480 with 1 Axes>"
      ]
     },
     "metadata": {},
     "output_type": "display_data"
    }
   ],
   "source": [
    "sns.boxplot(x='world_side', y='salary_net', data=newdf)\n",
    "# The highest salary in South side"
   ]
  },
  {
   "cell_type": "code",
   "execution_count": 24,
   "id": "6e2a265d",
   "metadata": {},
   "outputs": [
    {
     "data": {
      "text/plain": [
       "<AxesSubplot: xlabel='density', ylabel='expenses'>"
      ]
     },
     "execution_count": 24,
     "metadata": {},
     "output_type": "execute_result"
    },
    {
     "data": {
      "image/png": "[encoded data removed]",
      "text/plain": [
       "<Figure size 640x480 with 1 Axes>"
      ]
     },
     "metadata": {},
     "output_type": "display_data"
    }
   ],
   "source": [
    "sns.regplot(x='density', y='expenses', data=newdf)\n",
    "# The higher population the higher expenses. Positive correlation 0.75"
   ]
  },
  {
   "cell_type": "code",
   "execution_count": 25,
   "id": "5bc467c9",
   "metadata": {},
   "outputs": [
    {
     "data": {
      "text/plain": [
       "<AxesSubplot: xlabel='density', ylabel='population_mm'>"
      ]
     },
     "execution_count": 25,
     "metadata": {},
     "output_type": "execute_result"
    },
    {
     "data": {
      "image/png": "[encoded data removed]",
      "text/plain": [
       "<Figure size 640x480 with 1 Axes>"
      ]
     },
     "metadata": {},
     "output_type": "display_data"
    }
   ],
   "source": [
    "sns.regplot(x='density', y='population_mm', data=newdf)\n",
    "# The higher density, the higher population. Positive correlation 0.71"
   ]
  },
  {
   "cell_type": "code",
   "execution_count": 26,
   "id": "0301d3bf",
   "metadata": {},
   "outputs": [],
   "source": [
    "# newdf.to_excel('Final_data.xlsx', index=False)"
   ]
  }
 ],
 "metadata": {
  "kernelspec": {
   "display_name": "Python 3 (ipykernel)",
   "language": "python",
   "name": "python3"
  },
  "language_info": {
   "codemirror_mode": {
    "name": "ipython",
    "version": 3
   },
   "file_extension": ".py",
   "mimetype": "text/x-python",
   "name": "python",
   "nbconvert_exporter": "python",
   "pygments_lexer": "ipython3",
   "version": "3.9.13"
  }
 },
 "nbformat": 4,
 "nbformat_minor": 5
}
